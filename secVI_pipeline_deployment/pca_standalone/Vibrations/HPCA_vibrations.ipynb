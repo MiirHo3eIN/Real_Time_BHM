{
 "metadata": {
  "language_info": {
   "codemirror_mode": {
    "name": "ipython",
    "version": 3
   },
   "file_extension": ".py",
   "mimetype": "text/x-python",
   "name": "python",
   "nbconvert_exporter": "python",
   "pygments_lexer": "ipython3",
   "version": "3.8.5"
  },
  "orig_nbformat": 2,
  "kernelspec": {
   "name": "python3",
   "display_name": "Python 3.8.5 64-bit ('base': conda)"
  },
  "metadata": {
   "interpreter": {
    "hash": "767d51c1340bd893661ea55ea3124f6de3c7a262a8b4abca0554b478b1e2ff90"
   }
  },
  "interpreter": {
   "hash": "4b0090c0d978df27bf4e2c200786b6e7cc4706aa6636cdd7df31bbc801a06b83"
  }
 },
 "nbformat": 4,
 "nbformat_minor": 2,
 "cells": [
  {
   "cell_type": "code",
   "execution_count": 1,
   "metadata": {},
   "outputs": [],
   "source": [
    "import numpy as np \n",
    "import pandas as pd \n"
   ]
  },
  {
   "cell_type": "code",
   "execution_count": 2,
   "metadata": {},
   "outputs": [
    {
     "output_type": "stream",
     "name": "stdout",
     "text": [
      "[1237 1313 1333 1253 1222 1262 1303 1308 1308 1273 1227 1254 1246 1245\n 1318 1321 1263 1236 1261 1289]\n[1237 1313 1333 1253 1222 1262 1303 1308 1308 1273 1227 1254 1246 1245\n 1318 1321 1263 1236 1261 1289 1299 1319 1262 1226 1255 1224 1256 1325\n 1323 1268 1223 1251 1276 1305 1311 1244 1255 1259 1221 1258 1307 1313\n 1261 1234 1257 1280 1315 1292 1253 1268 1242 1225 1259 1302 1308 1260\n 1243 1244 1273 1323 1283 1266 1280 1227 1233 1276 1300 1307 1281 1257\n 1249 1285 1314 1275 1273 1277 1222 1238 1285 1289 1292 1290 1261 1243\n 1294 1303 1274 1290 1269 1224 1240 1287 1288 1289 1290 1248 1250 1299\n 1286 1266]\n"
     ]
    }
   ],
   "source": [
    "df0 = pd.read_parquet('values/4D33_20171114.parquet') # for training set\n",
    "df1 = pd.read_parquet('values/4D33_20171113.parquet') # for validation set \n",
    "\n",
    "d = 100\n",
    "N0 = len(df0)//d\n",
    "N1 = len(df1)//d\n",
    "\n",
    "print(df0['x'][:20].values)\n",
    "X0 = df0['x'][:d*N0].values.reshape(N0,d).T\n",
    "print(X0[:, 0])\n",
    "X1 = df1['x'][:d*N1].values.reshape(N1,d).T\n"
   ]
  },
  {
   "cell_type": "code",
   "execution_count": 3,
   "metadata": {},
   "outputs": [],
   "source": [
    "X_train = X0[:, :576]\n",
    "X_validate = X1[:, :576]"
   ]
  },
  {
   "cell_type": "code",
   "execution_count": 4,
   "metadata": {},
   "outputs": [
    {
     "output_type": "stream",
     "name": "stdout",
     "text": [
      "[1237 1313 1333 1253 1222 1262 1303 1308 1308 1273 1227 1254 1246 1245\n 1318 1321 1263 1236 1261 1289 1299 1319 1262 1226 1255 1224 1256 1325\n 1323 1268 1223 1251 1276 1305 1311 1244 1255 1259 1221 1258 1307 1313\n 1261 1234 1257 1280 1315 1292 1253 1268 1242 1225 1259 1302 1308 1260\n 1243 1244 1273 1323 1283 1266 1280 1227 1233 1276 1300 1307 1281 1257\n 1249 1285 1314 1275 1273 1277 1222 1238 1285 1289 1292 1290 1261 1243\n 1294 1303 1274 1290 1269 1224 1240 1287 1288 1289 1290 1248 1250 1299\n 1286 1266]\n\n\n[1294 1348 1376 1348 1282 1238 1244 1307 1365 1376 1338 1289 1280 1289\n 1337 1377 1346 1282 1236 1247 1304 1367 1382 1331 1289 1273 1281 1328\n 1361 1354 1296 1243 1247 1295 1370 1385 1340 1297 1268 1286 1331 1362\n 1354 1301 1244 1237 1299 1371 1379 1344 1300 1275 1287 1321 1356 1349\n 1304 1255 1240 1293 1365 1380 1341 1301 1279 1280 1323 1357 1342 1302\n 1251 1246 1296 1353 1377 1347 1306 1283 1281 1318 1353 1342 1301 1248\n 1238 1293 1352 1369 1344 1310 1282 1281 1319 1350 1342 1306 1259 1248\n 1294 1353]\n"
     ]
    }
   ],
   "source": [
    "print(X_train[:, 0])\n",
    "print('\\n')\n",
    "print(X_validate[:, 0])"
   ]
  },
  {
   "cell_type": "code",
   "execution_count": 12,
   "metadata": {},
   "outputs": [
    {
     "output_type": "stream",
     "name": "stdout",
     "text": [
      "[1237 1313 1333 1253 1222 1262 1303 1308 1308 1273 1227 1254 1246 1245\n",
      " 1318 1321 1263 1236 1261 1289 1299 1319 1262 1226 1255 1224 1256 1325\n",
      " 1323 1268 1223 1251 1276 1305 1311 1244 1255 1259 1221 1258 1307 1313\n",
      " 1261 1234 1257 1280 1315 1292 1253 1268 1242 1225 1259 1302 1308 1260\n",
      " 1243 1244 1273 1323 1283 1266 1280 1227 1233 1276 1300 1307 1281 1257\n",
      " 1249 1285 1314 1275 1273 1277 1222 1238 1285 1289 1292 1290 1261 1243\n",
      " 1294 1303 1274 1290 1269 1224 1240 1287 1288 1289 1290 1248 1250 1299\n",
      " 1286 1266]\n",
      "0:00:15.002390\n"
     ]
    }
   ],
   "source": [
    "import serial\n",
    "import time\n",
    "from datetime import datetime\n",
    "\n",
    "tic = datetime.now()\n",
    "\"\"\" \n",
    "IMPORTANT: if your port is already open uncomment the following line. \n",
    "\"\"\"\n",
    "#com.close()   \n",
    "\n",
    "\"\"\"\n",
    "Defining the com to send the data via UART\n",
    "\"\"\"\n",
    "com = serial.Serial(\"/dev/ttyUSB0\", baudrate= 115200, \n",
    "                    parity = serial.PARITY_NONE, \n",
    "                    stopbits = serial.STOPBITS_ONE, \n",
    "                    bytesize = serial.EIGHTBITS,\n",
    "                    timeout = 100000)\n",
    "#com.open()\n",
    "\n",
    "com.isOpen() \n",
    "#samples = X_train.shape(1)\n",
    "samples = 1\n",
    "i = 0\n",
    "window = 0\n",
    "for counter in np.arange(1, samples+1):\n",
    "    #tx_train = X_train[:, window]\n",
    "    #tx_validate = X_test[:, window]\n",
    "    #print(counter%2)\n",
    "    if counter % 2 == 0: \n",
    "        tx_data = X_validate[:, window]\n",
    "        window += 1\n",
    "    else: \n",
    "        tx_data = X_train[:, window]\n",
    "    print(tx_data)\n",
    "    for aray in tx_data:\n",
    "    # To have 8 bits of data for each value, following reshaping is vital \n",
    "        i +=1\n",
    "        if aray >0: \n",
    "            string = '++' + str(aray) +'\\r\\n' \n",
    "        else:\n",
    "            string = '-' + str(aray) + '\\r\\n' \n",
    "         \n",
    "        com.write((string).encode('ascii'))\n",
    "        if i % 100 == 0: \n",
    "            time.sleep(10)\n",
    "        else: \n",
    "            time.sleep(0.05) # to avoid data loss\n",
    "tac = datetime.now()\n",
    "print(tac - tic)   \n",
    "com.close()"
   ]
  },
  {
   "cell_type": "code",
   "execution_count": 22,
   "metadata": {},
   "outputs": [],
   "source": [
    "com.close()"
   ]
  },
  {
   "cell_type": "code",
   "execution_count": 21,
   "metadata": {},
   "outputs": [
    {
     "output_type": "stream",
     "name": "stdout",
     "text": [
      "0:00:01.001833\n"
     ]
    }
   ],
   "source": [
    "import time \n",
    "from datetime import datetime \n",
    "tic = datetime.now()\n",
    "time.sleep(1)\n",
    "tac = datetime.now()\n",
    "print(tac-tic)"
   ]
  },
  {
   "cell_type": "code",
   "execution_count": null,
   "metadata": {},
   "outputs": [],
   "source": []
  }
 ]
}